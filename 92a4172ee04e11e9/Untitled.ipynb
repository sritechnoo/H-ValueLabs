{
 "cells": [
  {
   "cell_type": "code",
   "execution_count": 3,
   "metadata": {},
   "outputs": [],
   "source": [
    "from __future__ import division, print_function\n",
    "\n",
    "\n",
    "from keras.preprocessing.sequence import pad_sequences\n",
    "from keras.layers.embeddings import Embedding\n",
    "\n",
    "\n",
    "from keras.layers import Input\n",
    "from keras.models import Model, load_model\n",
    "\n",
    "from keras.layers.core import Dense, Dropout, Masking, RepeatVector\n",
    "\n",
    "from keras.layers.merge import concatenate\n",
    "\n",
    "from keras.layers.recurrent import GRU\n",
    "from keras.layers.wrappers import Bidirectional, TimeDistributed\n",
    "\n",
    "from keras.layers.normalization import BatchNormalization\n",
    "\n",
    "from keras.optimizers import Adam\n",
    "\n",
    "from keras.callbacks import ModelCheckpoint\n",
    "\n",
    "from keras.utils.np_utils import to_categorical\n",
    "\n",
    "\n",
    "\n",
    "from sklearn.metrics import mean_squared_error\n",
    "import math\n",
    "\n",
    "import numpy as np\n",
    "import os\n",
    "import scipy\n",
    "%matplotlib inline"
   ]
  },
  {
   "cell_type": "code",
   "execution_count": null,
   "metadata": {},
   "outputs": [],
   "source": [
    "encoder_input = Input(shape=(None, ), name='encoder_input')\n",
    "embedding_size = 128\n",
    "encoder_embedding = Embedding(input_dim=num_words, output_dim=128, name='encoder_embedding')\n",
    "\n",
    "state_size = 512\n",
    "\n",
    "\n",
    "encoder_gru1 = GRU(state_size, name='encoder_gru1', return_sequences=True)\n",
    "encoder_gru2 = GRU(state_size, name='encoder_gru2', return_sequences=True)\n",
    "encoder_gru3 = GRU(state_size, name='encoder_gru3',return_sequences=False)\n"
   ]
  },
  {
   "cell_type": "code",
   "execution_count": null,
   "metadata": {},
   "outputs": [],
   "source": [
    "def connect_encoder():\n",
    "    # Start the neural network with its input-layer.\n",
    "    net = encoder_input\n",
    "    \n",
    "    # Connect the embedding-layer.\n",
    "    net = encoder_embedding(net)\n",
    "\n",
    "    # Connect all the GRU-layers.\n",
    "    net = encoder_gru1(net)\n",
    "    net = encoder_gru2(net)\n",
    "    net = encoder_gru3(net)\n",
    "\n",
    "    # This is the output of the encoder.\n",
    "    encoder_output = net\n",
    "    \n",
    "    return encoder_output"
   ]
  },
  {
   "cell_type": "code",
   "execution_count": null,
   "metadata": {},
   "outputs": [],
   "source": [
    "def connect_encoder():\n",
    "    # Start the neural network with its input-layer.\n",
    "    net = Input(shape=(None, ), name='encoder_input')\n",
    "     \n",
    "    net = Embedding(input_dim=100000, output_dim=300, name='encoder_embedding')(net)\n",
    "\n",
    "    # Connect all the GRU-layers.\n",
    "    net = GRU(state_size, name='encoder_gru1', return_sequences=True)(net)\n",
    "    net = GRU(state_size, name='encoder_gru2', return_sequences=True)(net)\n",
    "    net = GRU(state_size, name='encoder_gru3', return_sequences=False)(net)\n",
    "\n",
    "    # This is the output of the encoder.\n",
    "    encoder_output = net\n",
    "    \n",
    "    return encoder_output"
   ]
  },
  {
   "cell_type": "code",
   "execution_count": null,
   "metadata": {},
   "outputs": [],
   "source": []
  }
 ],
 "metadata": {
  "kernelspec": {
   "display_name": "Python 3",
   "language": "python",
   "name": "python3"
  },
  "language_info": {
   "codemirror_mode": {
    "name": "ipython",
    "version": 3
   },
   "file_extension": ".py",
   "mimetype": "text/x-python",
   "name": "python",
   "nbconvert_exporter": "python",
   "pygments_lexer": "ipython3",
   "version": "3.7.3"
  }
 },
 "nbformat": 4,
 "nbformat_minor": 2
}
